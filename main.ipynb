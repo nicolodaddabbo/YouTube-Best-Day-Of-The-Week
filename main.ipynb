{
 "cells": [
  {
   "cell_type": "code",
   "execution_count": 8,
   "id": "f140bdae-1090-477b-b14e-75735805a412",
   "metadata": {},
   "outputs": [],
   "source": [
    "import os\n",
    "import api_secrets\n",
    "import google_auth_oauthlib.flow\n",
    "from googleapiclient.discovery import build\n",
    "import googleapiclient.errors\n",
    "from IPython.display import JSON"
   ]
  },
  {
   "cell_type": "code",
   "execution_count": 9,
   "id": "4a034975-f762-455c-b76d-5e246bc7d215",
   "metadata": {},
   "outputs": [],
   "source": [
    "channels_list = [\n",
    "    'UCZXnFpWVLBwD2cCgE1M1NhA',\n",
    "    'UC_x5XG1OV2P6uZZ5FSM9Ttw',\n",
    "    'UCg7mcZKjupbLdsuiMBVTuDw'\n",
    "]"
   ]
  },
  {
   "cell_type": "code",
   "execution_count": 11,
   "id": "9cce8afb-c784-4bd0-a6c3-c1c210a8dbb0",
   "metadata": {},
   "outputs": [
    {
     "data": {
      "application/json": {
       "etag": "9EzZBaCWAy5-j3RY3dRXwf6G-dI",
       "items": [
        {
         "etag": "q6Nm8qLMlvjK8xmJhA0XR4bgkP8",
         "id": "xUmHapfXUFE",
         "kind": "youtube#video",
         "snippet": {
          "categoryId": "25",
          "channelId": "UC4UGTYAV8OSRmqBjYBPFn4w",
          "channelTitle": "GioPizzi",
          "defaultAudioLanguage": "it",
          "defaultLanguage": "it",
          "description": "Iscriviti con il 60% di sconto (giopizzi60off): https://bit.ly/gio60off\n\nIl mio NUOVO romanzo “Verranno dalle pianure”:\n\n► AMAZON: https://amzn.to/3KbsqFc\n► MONDADORI STORE: https://bit.ly/3K6Xfuw\n► FELTRINELLI: https://bit.ly/3Ipd3HO\n► IBS: https://bit.ly/3XEkBKV\n\n● Il mio romanzo “Rapaci”:\n\n►AMAZON: https://amzn.to/2YA0Ds0\n►MONDADORI STORE: https://www.mondadoristore.it/Rapaci-Giovanni-Pizzigoni/eai978880474079/\n►FELTRINELLI: https://bit.ly/3A18uNc\n►IBS: https://bit.ly/3A20hbE\n\n● Il mio romanzo “Carne sprecata”: https://amzn.to/374VQzu\n\nSupportami su: \n● PATREON: https://www.patreon.com/GioPizzi\n\n●ISCRIVITI: https://goo.gl/eqHygH\n\nSeguimi su:\n● INSTAGRAM: http://bit.ly/2uIyStO\n● TWITTER: http://bit.ly/2sHhwft\n● TWITCH: https://www.twitch.tv/gio_pizzi\n● FACEBOOK: http://bit.ly/2tFWRtx\n\nIL MIO PODCAST: https://bit.ly/2C3wFyY\n\nPianta un albero nella mia foresta su TREEDOM: https://bit.ly/2TyM4R4\n\n● Secondo Canale YouTube: https://goo.gl/A4jhEo\n\n#Gaza #Israele #Palestina\n\nCollaborazione con Amedeo Maddaluno e Andrea Muratore\nInstagram: https://www.instagram.com/amedeomaddaluno/\nLinktree: https://bit.ly/3XLjXwz\n\nFONTI E LINK INTERESSANTI\n\n- Vittime israeliane e palestinesi (UN): https://www.ochaopt.org/content/hostilities-gaza-strip-and-israel-reported-impact-day-29\n- Vittime in Ucraina (UN): https://www.ohchr.org/en/news/2023/09/ukraine-civilian-casualty-update-11-september-2023\n- Genocidio (TRECCANI): https://www.treccani.it/enciclopedia/genocidio/\n- Pulizia etnica (TRECCANI): https://www.treccani.it/enciclopedia/pulizia-etnica/\n- Statuto di Roma (WIKI): https://it.wikipedia.org/wiki/Statuto_di_Roma\n- Crimini NATO in Serbia (HRW): https://www.hrw.org/reports/2000/nato/Natbm200.htm\n- Altri crimini NATO in Serbia (FRANCE24): https://www.france24.com/en/20190321-20-years-serbian-victims-nato-bombings-feel-forgotten\n- Kosovo (EAST JOURNAL): https://www.eastjournal.net/archives/102174\n- Il massacro di Khojaly (INSIDE OVER): https://it.insideover.com/schede/guerra/che-cose-la-strage-di-khojaly.html\n- La strage dimenticata (AGI): https://www.agi.it/estero/news/2021-03-15/khojaly-strage-dimenticata-nel-cuore-del-caucaso-11778930/\n- La macelleria degli azeri (TEMPI): https://www.tempi.it/i-soldati-azeri-decapitano-civili-armeni-inermi-ecco-come-ci-vendichiamo/\n- Coloni in Cisgiordania (STATISTA): https://www.statista.com/chart/20001/number-of-israeli-settlers-living-in-the-west-bank-by-year/\n- La mappa dell’occupazione (NEW YORK): https://www.newyorker.com/news/news-desk/the-map-of-israeli-settlements-that-shocked-barack-obama",
          "liveBroadcastContent": "none",
          "localized": {
           "description": "Iscriviti con il 60% di sconto (giopizzi60off): https://bit.ly/gio60off\n\nIl mio NUOVO romanzo “Verranno dalle pianure”:\n\n► AMAZON: https://amzn.to/3KbsqFc\n► MONDADORI STORE: https://bit.ly/3K6Xfuw\n► FELTRINELLI: https://bit.ly/3Ipd3HO\n► IBS: https://bit.ly/3XEkBKV\n\n● Il mio romanzo “Rapaci”:\n\n►AMAZON: https://amzn.to/2YA0Ds0\n►MONDADORI STORE: https://www.mondadoristore.it/Rapaci-Giovanni-Pizzigoni/eai978880474079/\n►FELTRINELLI: https://bit.ly/3A18uNc\n►IBS: https://bit.ly/3A20hbE\n\n● Il mio romanzo “Carne sprecata”: https://amzn.to/374VQzu\n\nSupportami su: \n● PATREON: https://www.patreon.com/GioPizzi\n\n●ISCRIVITI: https://goo.gl/eqHygH\n\nSeguimi su:\n● INSTAGRAM: http://bit.ly/2uIyStO\n● TWITTER: http://bit.ly/2sHhwft\n● TWITCH: https://www.twitch.tv/gio_pizzi\n● FACEBOOK: http://bit.ly/2tFWRtx\n\nIL MIO PODCAST: https://bit.ly/2C3wFyY\n\nPianta un albero nella mia foresta su TREEDOM: https://bit.ly/2TyM4R4\n\n● Secondo Canale YouTube: https://goo.gl/A4jhEo\n\n#Gaza #Israele #Palestina\n\nCollaborazione con Amedeo Maddaluno e Andrea Muratore\nInstagram: https://www.instagram.com/amedeomaddaluno/\nLinktree: https://bit.ly/3XLjXwz\n\nFONTI E LINK INTERESSANTI\n\n- Vittime israeliane e palestinesi (UN): https://www.ochaopt.org/content/hostilities-gaza-strip-and-israel-reported-impact-day-29\n- Vittime in Ucraina (UN): https://www.ohchr.org/en/news/2023/09/ukraine-civilian-casualty-update-11-september-2023\n- Genocidio (TRECCANI): https://www.treccani.it/enciclopedia/genocidio/\n- Pulizia etnica (TRECCANI): https://www.treccani.it/enciclopedia/pulizia-etnica/\n- Statuto di Roma (WIKI): https://it.wikipedia.org/wiki/Statuto_di_Roma\n- Crimini NATO in Serbia (HRW): https://www.hrw.org/reports/2000/nato/Natbm200.htm\n- Altri crimini NATO in Serbia (FRANCE24): https://www.france24.com/en/20190321-20-years-serbian-victims-nato-bombings-feel-forgotten\n- Kosovo (EAST JOURNAL): https://www.eastjournal.net/archives/102174\n- Il massacro di Khojaly (INSIDE OVER): https://it.insideover.com/schede/guerra/che-cose-la-strage-di-khojaly.html\n- La strage dimenticata (AGI): https://www.agi.it/estero/news/2021-03-15/khojaly-strage-dimenticata-nel-cuore-del-caucaso-11778930/\n- La macelleria degli azeri (TEMPI): https://www.tempi.it/i-soldati-azeri-decapitano-civili-armeni-inermi-ecco-come-ci-vendichiamo/\n- Coloni in Cisgiordania (STATISTA): https://www.statista.com/chart/20001/number-of-israeli-settlers-living-in-the-west-bank-by-year/\n- La mappa dell’occupazione (NEW YORK): https://www.newyorker.com/news/news-desk/the-map-of-israeli-settlements-that-shocked-barack-obama",
           "title": "Gaza: Possiamo parlare di GENOCIDIO?"
          },
          "publishedAt": "2023-11-07T12:01:00Z",
          "tags": [
           "Israele",
           "Gaza",
           "Palestina",
           "assedio",
           "guerra",
           "genocidio",
           "pulizia etnica",
           "bombardamenti",
           "esercito israeliano",
           "Netanyahu",
           "Hamas",
           "Cisgiordania",
           "colonie",
           "estrema destra israeliana"
          ],
          "thumbnails": {
           "default": {
            "height": 90,
            "url": "https://i.ytimg.com/vi/xUmHapfXUFE/default.jpg",
            "width": 120
           },
           "high": {
            "height": 360,
            "url": "https://i.ytimg.com/vi/xUmHapfXUFE/hqdefault.jpg",
            "width": 480
           },
           "maxres": {
            "height": 720,
            "url": "https://i.ytimg.com/vi/xUmHapfXUFE/maxresdefault.jpg",
            "width": 1280
           },
           "medium": {
            "height": 180,
            "url": "https://i.ytimg.com/vi/xUmHapfXUFE/mqdefault.jpg",
            "width": 320
           },
           "standard": {
            "height": 480,
            "url": "https://i.ytimg.com/vi/xUmHapfXUFE/sddefault.jpg",
            "width": 640
           }
          },
          "title": "Gaza: Possiamo parlare di GENOCIDIO?"
         },
         "statistics": {
          "commentCount": "362",
          "favoriteCount": "0",
          "likeCount": "2813",
          "viewCount": "17617"
         }
        }
       ],
       "kind": "youtube#videoListResponse",
       "pageInfo": {
        "resultsPerPage": 1,
        "totalResults": 1
       }
      },
      "text/plain": [
       "<IPython.core.display.JSON object>"
      ]
     },
     "execution_count": 11,
     "metadata": {
      "application/json": {
       "expanded": false,
       "root": "root"
      }
     },
     "output_type": "execute_result"
    }
   ],
   "source": [
    "video_id = \"xUmHapfXUFE\"\n",
    "\n",
    "# Set up the API client\n",
    "youtube = build(\"youtube\", \"v3\", developerKey=api_secrets.api_key)\n",
    "\n",
    "# Retrieve video data\n",
    "video_data = youtube.videos().list(\n",
    "    part=\"snippet,statistics\",\n",
    "    id=video_id\n",
    ").execute()\n",
    "\n",
    "# Print the video data\n",
    "JSON(video_data)\n"
   ]
  },
  {
   "cell_type": "code",
   "execution_count": null,
   "id": "518a2b00-fb74-4d54-9d9f-7557265f2522",
   "metadata": {},
   "outputs": [],
   "source": []
  }
 ],
 "metadata": {
  "kernelspec": {
   "display_name": "Python 3 (ipykernel)",
   "language": "python",
   "name": "python3"
  },
  "language_info": {
   "codemirror_mode": {
    "name": "ipython",
    "version": 3
   },
   "file_extension": ".py",
   "mimetype": "text/x-python",
   "name": "python",
   "nbconvert_exporter": "python",
   "pygments_lexer": "ipython3",
   "version": "3.9.13"
  }
 },
 "nbformat": 4,
 "nbformat_minor": 5
}
